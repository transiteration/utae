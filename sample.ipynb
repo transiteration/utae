{
 "cells": [
  {
   "cell_type": "code",
   "execution_count": 2,
   "metadata": {},
   "outputs": [],
   "source": [
    "import json\n",
    "import torch\n",
    "import numpy as np\n",
    "from src.backbones import utae\n",
    "from datetime import datetime"
   ]
  },
  {
   "cell_type": "code",
   "execution_count": 4,
   "metadata": {},
   "outputs": [],
   "source": [
    "reference_date = \"2018-01-01\"\n",
    "reference_date_d = datetime(*map(int, reference_date.split(\"-\")))\n",
    "image_date = \"2018-06-01\"\n",
    "image_date_d = datetime(*map(int, image_date.split(\"-\")))\n",
    "\n",
    "# Calculate the difference in days between the image date and the reference date\n",
    "date_diff = (image_date_d - reference_date_d).days\n",
    "\n",
    "# Load the data\n",
    "data = torch.from_numpy(np.load(f\"./JAXA/DATA_S2/S2_10000.npy\").astype(np.float32))\n",
    "data = data[0, :, :, :]\n",
    "target = torch.from_numpy(np.load(f\"./JAXA/ANNOTATIONS/TARGET_10000.npy\").astype(np.int8))\n",
    "# Load normalization values\n",
    "with open(\"./model_deployment/model_dir/normalization.json\", \"r\") as file:\n",
    "    normvals = json.loads(file.read())\n",
    "means = [normvals[\"Fold_{}\".format(f)][\"mean\"] for f in range(1, 6)]\n",
    "stds = [normvals[\"Fold_{}\".format(f)][\"std\"] for f in range(1, 6)]\n",
    "norm = np.stack(means).mean(axis=0), np.stack(stds).mean(axis=0)\n",
    "norm = (\n",
    "    torch.from_numpy(norm[0]).float(),\n",
    "    torch.from_numpy(norm[1]).float(),\n",
    ")\n",
    "\n",
    "# Normalize the data\n",
    "data = (data - norm[0][None, :, None, None]) / norm[1][None, :, None, None]\n",
    "dates = torch.tensor([date_diff])\n",
    "x = data.unsqueeze(dim=0), dates.unsqueeze(dim=0)\n",
    "\n",
    "# Model configurations\n",
    "device = \"cpu\"\n",
    "model = utae.UTAE(\n",
    "    input_dim=9,\n",
    "    encoder_widths=[64, 64, 64, 128],\n",
    "    decoder_widths=[32, 32, 64, 128],\n",
    "    out_conv=[32, 4],\n",
    "    str_conv_k=4,\n",
    "    str_conv_s=2,\n",
    "    str_conv_p=1,\n",
    "    agg_mode=\"att_group\",\n",
    "    encoder_norm=\"group\",\n",
    "    n_head=16,\n",
    "    d_model=256,\n",
    "    d_k=4,\n",
    "    encoder=False,\n",
    "    return_maps=False,\n",
    "    pad_value=0,\n",
    "    padding_mode=\"reflect\",\n",
    ")\n",
    "model = model.to(device)\n",
    "sd = torch.load(\"artifacts/4_cl_1/fold_1/model.pth.tar\", map_location=device, weights_only=True)\n",
    "model.load_state_dict(sd[\"state_dict\"])\n",
    "\n",
    "def recursive_todevice(x, device):\n",
    "    if isinstance(x, torch.Tensor):\n",
    "        return x.to(device)\n",
    "    elif isinstance(x, dict):\n",
    "        return {k: recursive_todevice(v, device) for k, v in x.items()}\n",
    "    else:\n",
    "        return [recursive_todevice(c, device) for c in x]\n",
    "    \n",
    "x = recursive_todevice(x, device) \n",
    "\n",
    "with torch.inference_mode():\n",
    "    out = model(x[0], batch_positions=x[1])\n",
    "# pred = out.squeeze(dim=0).squeeze(dim=0).cpu().numpy()\n",
    "# binary_image = np.where(pred >= 0.5, 1, 0)\n",
    "pred = out.argmax(dim=1)"
   ]
  },
  {
   "cell_type": "code",
   "execution_count": 5,
   "metadata": {},
   "outputs": [
    {
     "name": "stderr",
     "output_type": "stream",
     "text": [
      "/home/thankscarbon/miras/utae/src/backbones/utae.py:195: TracerWarning: Converting a tensor to a Python boolean might cause the trace to be incorrect. We can't record the data flow of Python values, so this value will be treated as a constant in the future. This means that the trace might not generalize to other inputs!\n",
      "  if pad_mask.any():\n",
      "/home/thankscarbon/miras/utae/src/backbones/utae.py:361: TracerWarning: Converting a tensor to a Python boolean might cause the trace to be incorrect. We can't record the data flow of Python values, so this value will be treated as a constant in the future. This means that the trace might not generalize to other inputs!\n",
      "  if pad_mask is not None and pad_mask.any():\n",
      "/home/thankscarbon/miras/utae/src/backbones/utae.py:397: TracerWarning: Converting a tensor to a Python boolean might cause the trace to be incorrect. We can't record the data flow of Python values, so this value will be treated as a constant in the future. This means that the trace might not generalize to other inputs!\n",
      "  if x.shape[-2] > w:\n",
      "/home/thankscarbon/miras/utae/src/backbones/utae.py:407: TracerWarning: Iterating over a tensor might cause the trace to be incorrect. Passing a tensor of different shape won't change the number of iterations executed (and might lead to errors or silently give incorrect results).\n",
      "  out = torch.cat([group for group in out], dim=1)  # -> BxCxHxW\n"
     ]
    }
   ],
   "source": [
    "example_input = torch.randn(1, 1, 9, 128, 128).to(device)\n",
    "example_dates = torch.tensor([0]).unsqueeze(dim=0).to(device)\n",
    "\n",
    "# Trace the model\n",
    "model.eval()\n",
    "traced_model = torch.jit.trace(model, (example_input, example_dates))\n",
    "\n",
    "# Save the traced model\n",
    "torch.jit.save(traced_model, \"model_deployment/model_dir/model_4cl.pt\")"
   ]
  },
  {
   "cell_type": "code",
   "execution_count": 1,
   "metadata": {},
   "outputs": [
    {
     "name": "stdout",
     "output_type": "stream",
     "text": [
      "Data saved to test.json\n"
     ]
    }
   ],
   "source": [
    "import numpy as np\n",
    "import json\n",
    "\n",
    "# Load the data\n",
    "data = np.load(f\"./JAXA/DATA_S2/S2_10000.npy\").astype(np.float32)\n",
    "image_data = data[0, :, :, :]\n",
    "date = \"2018-06-01\"\n",
    "\n",
    "# Create the JSON structure\n",
    "instance = {\n",
    "    \"image\": image_data.tolist(),  # Convert NumPy array to a nested list\n",
    "    \"date\": date\n",
    "}\n",
    "\n",
    "# Save to a JSON file (e.g., test.json)\n",
    "with open(\"test.json\", \"w\") as f:\n",
    "    json.dump(instance, f, indent=4)  # Use indent for readability (optional)\n",
    "\n",
    "print(\"Data saved to test.json\")"
   ]
  }
 ],
 "metadata": {
  "kernelspec": {
   "display_name": ".venv",
   "language": "python",
   "name": "python3"
  },
  "language_info": {
   "codemirror_mode": {
    "name": "ipython",
    "version": 3
   },
   "file_extension": ".py",
   "mimetype": "text/x-python",
   "name": "python",
   "nbconvert_exporter": "python",
   "pygments_lexer": "ipython3",
   "version": "3.10.12"
  }
 },
 "nbformat": 4,
 "nbformat_minor": 2
}
